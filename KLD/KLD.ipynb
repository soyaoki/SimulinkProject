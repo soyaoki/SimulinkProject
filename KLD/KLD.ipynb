{
 "cells": [
  {
   "cell_type": "code",
   "execution_count": 1,
   "metadata": {
    "execution": {
     "iopub.execute_input": "2022-06-12T13:24:07.374475Z",
     "iopub.status.busy": "2022-06-12T13:24:07.373636Z",
     "iopub.status.idle": "2022-06-12T13:24:07.608233Z",
     "shell.execute_reply": "2022-06-12T13:24:07.607315Z",
     "shell.execute_reply.started": "2022-06-12T13:24:07.374408Z"
    }
   },
   "outputs": [],
   "source": [
    "import numpy as np"
   ]
  },
  {
   "cell_type": "code",
   "execution_count": 2,
   "metadata": {
    "execution": {
     "iopub.execute_input": "2022-06-12T13:24:07.611897Z",
     "iopub.status.busy": "2022-06-12T13:24:07.611197Z",
     "iopub.status.idle": "2022-06-12T13:24:07.619739Z",
     "shell.execute_reply": "2022-06-12T13:24:07.618082Z",
     "shell.execute_reply.started": "2022-06-12T13:24:07.611834Z"
    }
   },
   "outputs": [],
   "source": [
    "delta = np.array([0.1, 0.5, 0.2, 0.02, 2.1, 0.4, 0.04, 0.5, 0.6, 1.0])"
   ]
  },
  {
   "cell_type": "code",
   "execution_count": 3,
   "metadata": {
    "execution": {
     "iopub.execute_input": "2022-06-12T13:24:07.623013Z",
     "iopub.status.busy": "2022-06-12T13:24:07.622276Z",
     "iopub.status.idle": "2022-06-12T13:24:07.637575Z",
     "shell.execute_reply": "2022-06-12T13:24:07.634315Z",
     "shell.execute_reply.started": "2022-06-12T13:24:07.622947Z"
    }
   },
   "outputs": [],
   "source": [
    "p1 = sum((0.0<=delta)*(delta<0.5))/len(delta) + 0.0001\n",
    "p2 = sum((0.5<=delta)*(delta<1.0))/len(delta) + 0.0001\n",
    "p3 = sum((1.0<=delta)*(delta<np.inf))/len(delta) + 0.0001"
   ]
  },
  {
   "cell_type": "code",
   "execution_count": 4,
   "metadata": {
    "execution": {
     "iopub.execute_input": "2022-06-12T13:24:07.640075Z",
     "iopub.status.busy": "2022-06-12T13:24:07.639604Z",
     "iopub.status.idle": "2022-06-12T13:24:07.649565Z",
     "shell.execute_reply": "2022-06-12T13:24:07.647319Z",
     "shell.execute_reply.started": "2022-06-12T13:24:07.640021Z"
    }
   },
   "outputs": [],
   "source": [
    "q1 = 0.1\n",
    "q2 = 0.3\n",
    "q3 = 0.6"
   ]
  },
  {
   "cell_type": "code",
   "execution_count": 5,
   "metadata": {
    "execution": {
     "iopub.execute_input": "2022-06-12T13:24:07.653011Z",
     "iopub.status.busy": "2022-06-12T13:24:07.652510Z",
     "iopub.status.idle": "2022-06-12T13:24:07.683189Z",
     "shell.execute_reply": "2022-06-12T13:24:07.681820Z",
     "shell.execute_reply.started": "2022-06-12T13:24:07.652950Z"
    }
   },
   "outputs": [
    {
     "data": {
      "text/plain": [
       "(0.5001, 0.3001, 0.2001)"
      ]
     },
     "execution_count": 5,
     "metadata": {},
     "output_type": "execute_result"
    }
   ],
   "source": [
    "p1,p2,p3"
   ]
  },
  {
   "cell_type": "code",
   "execution_count": 6,
   "metadata": {
    "execution": {
     "iopub.execute_input": "2022-06-12T13:24:07.686371Z",
     "iopub.status.busy": "2022-06-12T13:24:07.685630Z",
     "iopub.status.idle": "2022-06-12T13:24:07.696908Z",
     "shell.execute_reply": "2022-06-12T13:24:07.695376Z",
     "shell.execute_reply.started": "2022-06-12T13:24:07.686307Z"
    }
   },
   "outputs": [
    {
     "data": {
      "text/plain": [
       "(0.1, 0.3, 0.6)"
      ]
     },
     "execution_count": 6,
     "metadata": {},
     "output_type": "execute_result"
    }
   ],
   "source": [
    "q1,q2,q3"
   ]
  },
  {
   "cell_type": "code",
   "execution_count": 7,
   "metadata": {
    "execution": {
     "iopub.execute_input": "2022-06-12T13:24:07.699398Z",
     "iopub.status.busy": "2022-06-12T13:24:07.698951Z",
     "iopub.status.idle": "2022-06-12T13:24:07.709829Z",
     "shell.execute_reply": "2022-06-12T13:24:07.707214Z",
     "shell.execute_reply.started": "2022-06-12T13:24:07.699345Z"
    }
   },
   "outputs": [],
   "source": [
    "kld = p1*np.log(p1/q1) + p2*np.log(p2/q2) + p3*np.log(p3/q3)"
   ]
  },
  {
   "cell_type": "code",
   "execution_count": 8,
   "metadata": {
    "execution": {
     "iopub.execute_input": "2022-06-12T13:24:07.714653Z",
     "iopub.status.busy": "2022-06-12T13:24:07.713962Z",
     "iopub.status.idle": "2022-06-12T13:24:07.726144Z",
     "shell.execute_reply": "2022-06-12T13:24:07.724371Z",
     "shell.execute_reply.started": "2022-06-12T13:24:07.714563Z"
    }
   },
   "outputs": [
    {
     "data": {
      "text/plain": [
       "0.5853476327057876"
      ]
     },
     "execution_count": 8,
     "metadata": {},
     "output_type": "execute_result"
    }
   ],
   "source": [
    "kld"
   ]
  },
  {
   "cell_type": "code",
   "execution_count": null,
   "metadata": {},
   "outputs": [],
   "source": []
  }
 ],
 "metadata": {
  "kernelspec": {
   "display_name": "Python 3",
   "language": "python",
   "name": "python3"
  },
  "language_info": {
   "codemirror_mode": {
    "name": "ipython",
    "version": 3
   },
   "file_extension": ".py",
   "mimetype": "text/x-python",
   "name": "python",
   "nbconvert_exporter": "python",
   "pygments_lexer": "ipython3",
   "version": "3.7.2"
  }
 },
 "nbformat": 4,
 "nbformat_minor": 4
}
