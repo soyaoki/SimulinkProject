{
 "cells": [
  {
   "cell_type": "code",
   "execution_count": 1,
   "metadata": {
    "execution": {
     "iopub.execute_input": "2022-06-12T12:06:29.949824Z",
     "iopub.status.busy": "2022-06-12T12:06:29.949518Z",
     "iopub.status.idle": "2022-06-12T12:06:31.412960Z",
     "shell.execute_reply": "2022-06-12T12:06:31.411961Z",
     "shell.execute_reply.started": "2022-06-12T12:06:29.949788Z"
    }
   },
   "outputs": [],
   "source": [
    "from sklearn.metrics import roc_curve\n",
    "import matplotlib.pyplot as plt\n",
    "\n",
    "y_label = [0,0,0,0,0,0,0,0,0,0, \n",
    "           1,1,1,1,1,1,1,1,1,1]\n",
    "y_score = [10,20,30,40,50,60,70,80,90,100,\n",
    "          80,90,100,105,110,115,120,150,200,255]\n",
    "\n",
    "roc = roc_curve(y_label, y_score)"
   ]
  },
  {
   "cell_type": "code",
   "execution_count": 2,
   "metadata": {
    "execution": {
     "iopub.execute_input": "2022-06-12T12:06:39.135928Z",
     "iopub.status.busy": "2022-06-12T12:06:39.135559Z",
     "iopub.status.idle": "2022-06-12T12:06:39.148040Z",
     "shell.execute_reply": "2022-06-12T12:06:39.146453Z",
     "shell.execute_reply.started": "2022-06-12T12:06:39.135891Z"
    }
   },
   "outputs": [
    {
     "name": "stdout",
     "output_type": "stream",
     "text": [
      "[0.  0.  0.  0.3 1. ]\n",
      "[0.  0.1 0.7 1.  1. ]\n",
      "[256 255 105  80  10]\n"
     ]
    }
   ],
   "source": [
    "fpr, tpr, thresholds = roc_curve(y_label, y_score)\n",
    "\n",
    "print(fpr)\n",
    "\n",
    "print(tpr)\n",
    "\n",
    "print(thresholds)"
   ]
  },
  {
   "cell_type": "code",
   "execution_count": 3,
   "metadata": {
    "execution": {
     "iopub.execute_input": "2022-06-12T12:06:41.454514Z",
     "iopub.status.busy": "2022-06-12T12:06:41.454144Z",
     "iopub.status.idle": "2022-06-12T12:06:41.819247Z",
     "shell.execute_reply": "2022-06-12T12:06:41.817469Z",
     "shell.execute_reply.started": "2022-06-12T12:06:41.454477Z"
    }
   },
   "outputs": [
    {
     "data": {
      "image/png": "[encoded data removed]",
      "text/plain": [
       "<Figure size 432x288 with 1 Axes>"
      ]
     },
     "metadata": {
      "needs_background": "light"
     },
     "output_type": "display_data"
    }
   ],
   "source": [
    "plt.plot(fpr, tpr, marker='o')\n",
    "plt.xlabel('FPR: False positive rate')\n",
    "plt.ylabel('TPR: True positive rate')\n",
    "plt.grid()"
   ]
  },
  {
   "cell_type": "code",
   "execution_count": 4,
   "metadata": {
    "execution": {
     "iopub.execute_input": "2022-06-12T12:06:48.609608Z",
     "iopub.status.busy": "2022-06-12T12:06:48.609250Z",
     "iopub.status.idle": "2022-06-12T12:06:48.984015Z",
     "shell.execute_reply": "2022-06-12T12:06:48.982355Z",
     "shell.execute_reply.started": "2022-06-12T12:06:48.609571Z"
    }
   },
   "outputs": [
    {
     "name": "stdout",
     "output_type": "stream",
     "text": [
      "[0.  0.  0.  0.  0.  0.  0.  0.  0.1 0.2 0.3 0.4 0.5 0.6 0.7 0.8 0.9 1. ]\n",
      "[0.  0.1 0.2 0.3 0.4 0.5 0.6 0.7 0.8 0.9 1.  1.  1.  1.  1.  1.  1.  1. ]\n",
      "[256 255 200 150 120 115 110 105 100  90  80  70  60  50  40  30  20  10]\n"
     ]
    },
    {
     "data": {
      "image/png": "[encoded data removed]",
      "text/plain": [
       "<Figure size 432x288 with 1 Axes>"
      ]
     },
     "metadata": {
      "needs_background": "light"
     },
     "output_type": "display_data"
    }
   ],
   "source": [
    "fpr_all, tpr_all, thresholds_all = roc_curve(y_label, y_score,\n",
    "                                             drop_intermediate=False)\n",
    "\n",
    "print(fpr_all)\n",
    "\n",
    "print(tpr_all)\n",
    "\n",
    "print(thresholds_all)\n",
    "\n",
    "plt.plot(fpr_all, tpr_all, marker='o')\n",
    "plt.xlabel('FPR: False positive rate')\n",
    "plt.ylabel('TPR: True positive rate')\n",
    "plt.grid()"
   ]
  },
  {
   "cell_type": "code",
   "execution_count": 5,
   "metadata": {
    "execution": {
     "iopub.execute_input": "2022-06-12T12:07:00.557350Z",
     "iopub.status.busy": "2022-06-12T12:07:00.556987Z",
     "iopub.status.idle": "2022-06-12T12:07:00.567833Z",
     "shell.execute_reply": "2022-06-12T12:07:00.566178Z",
     "shell.execute_reply.started": "2022-06-12T12:07:00.557311Z"
    }
   },
   "outputs": [
    {
     "name": "stdout",
     "output_type": "stream",
     "text": [
      "0.955\n"
     ]
    }
   ],
   "source": [
    "from sklearn.metrics import roc_auc_score\n",
    "import numpy as np\n",
    "\n",
    "print(roc_auc_score(y_label, y_score))"
   ]
  },
  {
   "cell_type": "code",
   "execution_count": null,
   "metadata": {},
   "outputs": [],
   "source": []
  }
 ],
 "metadata": {
  "kernelspec": {
   "display_name": "Python 3",
   "language": "python",
   "name": "python3"
  },
  "language_info": {
   "codemirror_mode": {
    "name": "ipython",
    "version": 3
   },
   "file_extension": ".py",
   "mimetype": "text/x-python",
   "name": "python",
   "nbconvert_exporter": "python",
   "pygments_lexer": "ipython3",
   "version": "3.7.2"
  }
 },
 "nbformat": 4,
 "nbformat_minor": 4
}
