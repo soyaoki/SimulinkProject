{
 "cells": [
  {
   "cell_type": "code",
   "execution_count": 1,
   "metadata": {
    "execution": {
     "iopub.execute_input": "2022-07-10T13:45:09.955964Z",
     "iopub.status.busy": "2022-07-10T13:45:09.955174Z",
     "iopub.status.idle": "2022-07-10T13:45:12.217484Z",
     "shell.execute_reply": "2022-07-10T13:45:12.216220Z",
     "shell.execute_reply.started": "2022-07-10T13:45:09.955821Z"
    }
   },
   "outputs": [],
   "source": [
    "import pandas as pd\n",
    "import numpy as np\n",
    "import cv2\n",
    "import matplotlib.pylab as plt\n",
    "%matplotlib inline\n",
    "\n",
    "import scipy.io\n",
    "import mat4py\n",
    "import bokeh"
   ]
  },
  {
   "cell_type": "markdown",
   "metadata": {},
   "source": [
    "# Timeseries 1"
   ]
  },
  {
   "cell_type": "code",
   "execution_count": 2,
   "metadata": {
    "execution": {
     "iopub.execute_input": "2022-07-10T13:45:12.221098Z",
     "iopub.status.busy": "2022-07-10T13:45:12.220225Z",
     "iopub.status.idle": "2022-07-10T13:45:12.239746Z",
     "shell.execute_reply": "2022-07-10T13:45:12.238072Z",
     "shell.execute_reply.started": "2022-07-10T13:45:12.221061Z"
    }
   },
   "outputs": [],
   "source": [
    "img = cv2.resize(cv2.imread(\"./../../sample.jpg\", cv2.IMREAD_GRAYSCALE), dsize=(40, 30))/255"
   ]
  },
  {
   "cell_type": "code",
   "execution_count": 3,
   "metadata": {
    "execution": {
     "iopub.execute_input": "2022-07-10T13:45:12.243906Z",
     "iopub.status.busy": "2022-07-10T13:45:12.243120Z",
     "iopub.status.idle": "2022-07-10T13:45:12.274259Z",
     "shell.execute_reply": "2022-07-10T13:45:12.271882Z",
     "shell.execute_reply.started": "2022-07-10T13:45:12.243869Z"
    }
   },
   "outputs": [
    {
     "data": {
      "text/plain": [
       "(30, 40)"
      ]
     },
     "execution_count": 3,
     "metadata": {},
     "output_type": "execute_result"
    }
   ],
   "source": [
    "img.shape"
   ]
  },
  {
   "cell_type": "code",
   "execution_count": 4,
   "metadata": {
    "execution": {
     "iopub.execute_input": "2022-07-10T13:45:12.277910Z",
     "iopub.status.busy": "2022-07-10T13:45:12.276776Z",
     "iopub.status.idle": "2022-07-10T13:45:12.672121Z",
     "shell.execute_reply": "2022-07-10T13:45:12.669727Z",
     "shell.execute_reply.started": "2022-07-10T13:45:12.277862Z"
    }
   },
   "outputs": [
    {
     "data": {
      "text/plain": [
       "<matplotlib.image.AxesImage at 0x1253f43d0>"
      ]
     },
     "execution_count": 4,
     "metadata": {},
     "output_type": "execute_result"
    },
    {
     "data": {
      "image/png": "[encoded data removed]",
      "text/plain": [
       "<Figure size 432x288 with 1 Axes>"
      ]
     },
     "metadata": {
      "needs_background": "light"
     },
     "output_type": "display_data"
    }
   ],
   "source": [
    "plt.imshow(img)"
   ]
  },
  {
   "cell_type": "code",
   "execution_count": 5,
   "metadata": {
    "execution": {
     "iopub.execute_input": "2022-07-10T13:45:12.680480Z",
     "iopub.status.busy": "2022-07-10T13:45:12.679160Z",
     "iopub.status.idle": "2022-07-10T13:45:12.692200Z",
     "shell.execute_reply": "2022-07-10T13:45:12.689638Z",
     "shell.execute_reply.started": "2022-07-10T13:45:12.680415Z"
    }
   },
   "outputs": [],
   "source": [
    "time = np.arange(0,10,0.1)"
   ]
  },
  {
   "cell_type": "code",
   "execution_count": 6,
   "metadata": {
    "execution": {
     "iopub.execute_input": "2022-07-10T13:45:12.694593Z",
     "iopub.status.busy": "2022-07-10T13:45:12.694029Z",
     "iopub.status.idle": "2022-07-10T13:45:12.707822Z",
     "shell.execute_reply": "2022-07-10T13:45:12.705438Z",
     "shell.execute_reply.started": "2022-07-10T13:45:12.694537Z"
    }
   },
   "outputs": [],
   "source": [
    "imgs = []\n",
    "for i in range(len(time)):\n",
    "    imgs.append(img-(i/255))"
   ]
  },
  {
   "cell_type": "code",
   "execution_count": 7,
   "metadata": {
    "execution": {
     "iopub.execute_input": "2022-07-10T13:45:12.714381Z",
     "iopub.status.busy": "2022-07-10T13:45:12.712726Z",
     "iopub.status.idle": "2022-07-10T13:45:12.734808Z",
     "shell.execute_reply": "2022-07-10T13:45:12.732886Z",
     "shell.execute_reply.started": "2022-07-10T13:45:12.714252Z"
    }
   },
   "outputs": [],
   "source": [
    "df_1 = pd.DataFrame([time, imgs], index=[\"time\", \"map\"]).T"
   ]
  },
  {
   "cell_type": "code",
   "execution_count": 8,
   "metadata": {
    "execution": {
     "iopub.execute_input": "2022-07-10T13:45:12.740541Z",
     "iopub.status.busy": "2022-07-10T13:45:12.738941Z",
     "iopub.status.idle": "2022-07-10T13:45:13.224008Z",
     "shell.execute_reply": "2022-07-10T13:45:13.221050Z",
     "shell.execute_reply.started": "2022-07-10T13:45:12.740193Z"
    }
   },
   "outputs": [
    {
     "data": {
      "text/html": [
       "<div>\n",
       "<style scoped>\n",
       "    .dataframe tbody tr th:only-of-type {\n",
       "        vertical-align: middle;\n",
       "    }\n",
       "\n",
       "    .dataframe tbody tr th {\n",
       "        vertical-align: top;\n",
       "    }\n",
       "\n",
       "    .dataframe thead th {\n",
       "        text-align: right;\n",
       "    }\n",
       "</style>\n",
       "<table border=\"1\" class=\"dataframe\">\n",
       "  <thead>\n",
       "    <tr style=\"text-align: right;\">\n",
       "      <th></th>\n",
       "      <th>time</th>\n",
       "      <th>map</th>\n",
       "    </tr>\n",
       "  </thead>\n",
       "  <tbody>\n",
       "    <tr>\n",
       "      <th>0</th>\n",
       "      <td>0.0</td>\n",
       "      <td>[[0.6901960784313725, 0.7333333333333333, 0.76...</td>\n",
       "    </tr>\n",
       "    <tr>\n",
       "      <th>1</th>\n",
       "      <td>0.1</td>\n",
       "      <td>[[0.6862745098039216, 0.7294117647058823, 0.75...</td>\n",
       "    </tr>\n",
       "    <tr>\n",
       "      <th>2</th>\n",
       "      <td>0.2</td>\n",
       "      <td>[[0.6823529411764706, 0.7254901960784313, 0.75...</td>\n",
       "    </tr>\n",
       "    <tr>\n",
       "      <th>3</th>\n",
       "      <td>0.3</td>\n",
       "      <td>[[0.6784313725490196, 0.7215686274509804, 0.74...</td>\n",
       "    </tr>\n",
       "    <tr>\n",
       "      <th>4</th>\n",
       "      <td>0.4</td>\n",
       "      <td>[[0.6745098039215687, 0.7176470588235293, 0.74...</td>\n",
       "    </tr>\n",
       "    <tr>\n",
       "      <th>...</th>\n",
       "      <td>...</td>\n",
       "      <td>...</td>\n",
       "    </tr>\n",
       "    <tr>\n",
       "      <th>95</th>\n",
       "      <td>9.5</td>\n",
       "      <td>[[0.3176470588235294, 0.36078431372549014, 0.3...</td>\n",
       "    </tr>\n",
       "    <tr>\n",
       "      <th>96</th>\n",
       "      <td>9.6</td>\n",
       "      <td>[[0.3137254901960784, 0.35686274509803917, 0.3...</td>\n",
       "    </tr>\n",
       "    <tr>\n",
       "      <th>97</th>\n",
       "      <td>9.7</td>\n",
       "      <td>[[0.30980392156862746, 0.3529411764705882, 0.3...</td>\n",
       "    </tr>\n",
       "    <tr>\n",
       "      <th>98</th>\n",
       "      <td>9.8</td>\n",
       "      <td>[[0.30588235294117644, 0.3490196078431372, 0.3...</td>\n",
       "    </tr>\n",
       "    <tr>\n",
       "      <th>99</th>\n",
       "      <td>9.9</td>\n",
       "      <td>[[0.30196078431372547, 0.3450980392156862, 0.3...</td>\n",
       "    </tr>\n",
       "  </tbody>\n",
       "</table>\n",
       "<p>100 rows × 2 columns</p>\n",
       "</div>"
      ],
      "text/plain": [
       "   time                                                map\n",
       "0   0.0  [[0.6901960784313725, 0.7333333333333333, 0.76...\n",
       "1   0.1  [[0.6862745098039216, 0.7294117647058823, 0.75...\n",
       "2   0.2  [[0.6823529411764706, 0.7254901960784313, 0.75...\n",
       "3   0.3  [[0.6784313725490196, 0.7215686274509804, 0.74...\n",
       "4   0.4  [[0.6745098039215687, 0.7176470588235293, 0.74...\n",
       "..  ...                                                ...\n",
       "95  9.5  [[0.3176470588235294, 0.36078431372549014, 0.3...\n",
       "96  9.6  [[0.3137254901960784, 0.35686274509803917, 0.3...\n",
       "97  9.7  [[0.30980392156862746, 0.3529411764705882, 0.3...\n",
       "98  9.8  [[0.30588235294117644, 0.3490196078431372, 0.3...\n",
       "99  9.9  [[0.30196078431372547, 0.3450980392156862, 0.3...\n",
       "\n",
       "[100 rows x 2 columns]"
      ]
     },
     "execution_count": 8,
     "metadata": {},
     "output_type": "execute_result"
    }
   ],
   "source": [
    "df_1"
   ]
  },
  {
   "cell_type": "code",
   "execution_count": 9,
   "metadata": {
    "execution": {
     "iopub.execute_input": "2022-07-10T13:45:13.227078Z",
     "iopub.status.busy": "2022-07-10T13:45:13.226377Z",
     "iopub.status.idle": "2022-07-10T13:45:13.248803Z",
     "shell.execute_reply": "2022-07-10T13:45:13.247269Z",
     "shell.execute_reply.started": "2022-07-10T13:45:13.226956Z"
    }
   },
   "outputs": [],
   "source": [
    "scipy.io.savemat(\"data.mat\", {'data':{'time':df_1[\"time\"].to_list(), 'map':df_1[\"map\"].to_list()}})"
   ]
  },
  {
   "cell_type": "code",
   "execution_count": 10,
   "metadata": {
    "execution": {
     "iopub.execute_input": "2022-07-10T13:45:13.252985Z",
     "iopub.status.busy": "2022-07-10T13:45:13.251230Z",
     "iopub.status.idle": "2022-07-10T13:45:13.263909Z",
     "shell.execute_reply": "2022-07-10T13:45:13.257472Z",
     "shell.execute_reply.started": "2022-07-10T13:45:13.252911Z"
    }
   },
   "outputs": [],
   "source": [
    "# scipy.io.savemat('data.mat',{'data': {name: col.values for name, col in df_1.items()}})"
   ]
  },
  {
   "cell_type": "markdown",
   "metadata": {},
   "source": [
    "# Timeseries 2"
   ]
  },
  {
   "cell_type": "code",
   "execution_count": 11,
   "metadata": {
    "execution": {
     "iopub.execute_input": "2022-07-10T13:45:13.269026Z",
     "iopub.status.busy": "2022-07-10T13:45:13.266341Z",
     "iopub.status.idle": "2022-07-10T13:45:13.276413Z",
     "shell.execute_reply": "2022-07-10T13:45:13.274755Z",
     "shell.execute_reply.started": "2022-07-10T13:45:13.268902Z"
    }
   },
   "outputs": [],
   "source": [
    "a = []\n",
    "b = []\n",
    "\n",
    "for i in range(len(time)):\n",
    "    a.append(i)\n",
    "    b.append(len(time)-i)"
   ]
  },
  {
   "cell_type": "code",
   "execution_count": 12,
   "metadata": {
    "execution": {
     "iopub.execute_input": "2022-07-10T13:45:13.279300Z",
     "iopub.status.busy": "2022-07-10T13:45:13.278638Z",
     "iopub.status.idle": "2022-07-10T13:45:13.296658Z",
     "shell.execute_reply": "2022-07-10T13:45:13.294569Z",
     "shell.execute_reply.started": "2022-07-10T13:45:13.279250Z"
    }
   },
   "outputs": [],
   "source": [
    "df_2 = pd.DataFrame([])"
   ]
  },
  {
   "cell_type": "code",
   "execution_count": 13,
   "metadata": {
    "execution": {
     "iopub.execute_input": "2022-07-10T13:45:13.305024Z",
     "iopub.status.busy": "2022-07-10T13:45:13.304475Z",
     "iopub.status.idle": "2022-07-10T13:45:13.319842Z",
     "shell.execute_reply": "2022-07-10T13:45:13.318069Z",
     "shell.execute_reply.started": "2022-07-10T13:45:13.304969Z"
    }
   },
   "outputs": [],
   "source": [
    "df_2[\"time\"] = time\n",
    "df_2[\"a\"] = a\n",
    "df_2[\"b\"] = b"
   ]
  },
  {
   "cell_type": "code",
   "execution_count": 14,
   "metadata": {
    "execution": {
     "iopub.execute_input": "2022-07-10T13:45:13.327616Z",
     "iopub.status.busy": "2022-07-10T13:45:13.326068Z",
     "iopub.status.idle": "2022-07-10T13:45:13.367304Z",
     "shell.execute_reply": "2022-07-10T13:45:13.365265Z",
     "shell.execute_reply.started": "2022-07-10T13:45:13.327568Z"
    }
   },
   "outputs": [
    {
     "data": {
      "text/html": [
       "<div>\n",
       "<style scoped>\n",
       "    .dataframe tbody tr th:only-of-type {\n",
       "        vertical-align: middle;\n",
       "    }\n",
       "\n",
       "    .dataframe tbody tr th {\n",
       "        vertical-align: top;\n",
       "    }\n",
       "\n",
       "    .dataframe thead th {\n",
       "        text-align: right;\n",
       "    }\n",
       "</style>\n",
       "<table border=\"1\" class=\"dataframe\">\n",
       "  <thead>\n",
       "    <tr style=\"text-align: right;\">\n",
       "      <th></th>\n",
       "      <th>time</th>\n",
       "      <th>a</th>\n",
       "      <th>b</th>\n",
       "    </tr>\n",
       "  </thead>\n",
       "  <tbody>\n",
       "    <tr>\n",
       "      <th>0</th>\n",
       "      <td>0.0</td>\n",
       "      <td>0</td>\n",
       "      <td>100</td>\n",
       "    </tr>\n",
       "    <tr>\n",
       "      <th>1</th>\n",
       "      <td>0.1</td>\n",
       "      <td>1</td>\n",
       "      <td>99</td>\n",
       "    </tr>\n",
       "    <tr>\n",
       "      <th>2</th>\n",
       "      <td>0.2</td>\n",
       "      <td>2</td>\n",
       "      <td>98</td>\n",
       "    </tr>\n",
       "    <tr>\n",
       "      <th>3</th>\n",
       "      <td>0.3</td>\n",
       "      <td>3</td>\n",
       "      <td>97</td>\n",
       "    </tr>\n",
       "    <tr>\n",
       "      <th>4</th>\n",
       "      <td>0.4</td>\n",
       "      <td>4</td>\n",
       "      <td>96</td>\n",
       "    </tr>\n",
       "    <tr>\n",
       "      <th>...</th>\n",
       "      <td>...</td>\n",
       "      <td>...</td>\n",
       "      <td>...</td>\n",
       "    </tr>\n",
       "    <tr>\n",
       "      <th>95</th>\n",
       "      <td>9.5</td>\n",
       "      <td>95</td>\n",
       "      <td>5</td>\n",
       "    </tr>\n",
       "    <tr>\n",
       "      <th>96</th>\n",
       "      <td>9.6</td>\n",
       "      <td>96</td>\n",
       "      <td>4</td>\n",
       "    </tr>\n",
       "    <tr>\n",
       "      <th>97</th>\n",
       "      <td>9.7</td>\n",
       "      <td>97</td>\n",
       "      <td>3</td>\n",
       "    </tr>\n",
       "    <tr>\n",
       "      <th>98</th>\n",
       "      <td>9.8</td>\n",
       "      <td>98</td>\n",
       "      <td>2</td>\n",
       "    </tr>\n",
       "    <tr>\n",
       "      <th>99</th>\n",
       "      <td>9.9</td>\n",
       "      <td>99</td>\n",
       "      <td>1</td>\n",
       "    </tr>\n",
       "  </tbody>\n",
       "</table>\n",
       "<p>100 rows × 3 columns</p>\n",
       "</div>"
      ],
      "text/plain": [
       "    time   a    b\n",
       "0    0.0   0  100\n",
       "1    0.1   1   99\n",
       "2    0.2   2   98\n",
       "3    0.3   3   97\n",
       "4    0.4   4   96\n",
       "..   ...  ..  ...\n",
       "95   9.5  95    5\n",
       "96   9.6  96    4\n",
       "97   9.7  97    3\n",
       "98   9.8  98    2\n",
       "99   9.9  99    1\n",
       "\n",
       "[100 rows x 3 columns]"
      ]
     },
     "execution_count": 14,
     "metadata": {},
     "output_type": "execute_result"
    }
   ],
   "source": [
    "df_2"
   ]
  },
  {
   "cell_type": "code",
   "execution_count": 15,
   "metadata": {
    "execution": {
     "iopub.execute_input": "2022-07-10T13:45:13.374022Z",
     "iopub.status.busy": "2022-07-10T13:45:13.370347Z",
     "iopub.status.idle": "2022-07-10T13:45:13.387862Z",
     "shell.execute_reply": "2022-07-10T13:45:13.386743Z",
     "shell.execute_reply.started": "2022-07-10T13:45:13.373953Z"
    }
   },
   "outputs": [],
   "source": [
    "scipy.io.savemat('data2.mat',{'data2': {name: col.values for name, col in df_2.items()}})"
   ]
  },
  {
   "cell_type": "code",
   "execution_count": null,
   "metadata": {},
   "outputs": [],
   "source": []
  }
 ],
 "metadata": {
  "kernelspec": {
   "display_name": "Python3.8",
   "language": "python",
   "name": "python3.8"
  },
  "language_info": {
   "codemirror_mode": {
    "name": "ipython",
    "version": 3
   },
   "file_extension": ".py",
   "mimetype": "text/x-python",
   "name": "python",
   "nbconvert_exporter": "python",
   "pygments_lexer": "ipython3",
   "version": "3.8.13"
  }
 },
 "nbformat": 4,
 "nbformat_minor": 4
}
